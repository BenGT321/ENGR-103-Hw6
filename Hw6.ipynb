{
  "nbformat": 4,
  "nbformat_minor": 0,
  "metadata": {
    "colab": {
      "provenance": []
    },
    "kernelspec": {
      "name": "python3",
      "display_name": "Python 3"
    },
    "language_info": {
      "name": "python"
    }
  },
  "cells": [
    {
      "cell_type": "code",
      "execution_count": 18,
      "metadata": {
        "colab": {
          "base_uri": "https://localhost:8080/"
        },
        "id": "CgGouheNqJrr",
        "outputId": "9e8dc71a-0b0f-4e76-83aa-4e00bbaae888"
      },
      "outputs": [
        {
          "output_type": "stream",
          "name": "stdout",
          "text": [
            "The settling velocity for 10 micrometers is  5.995766973865769e-05 m/s\n",
            "For 10 micrometer grain size sediments it takes 9.265796318921335 hours to settle in the pond.\n",
            "The settling velocity for 20 micrometers is  0.0002397644125204158 m/s\n",
            "For 20 micrometer grain size sediments it takes 2.3170893032686837 hours to settle in the pond.\n",
            "The settling velocity for 30 micrometers is  0.0005392202419138129 m/s\n",
            "For 30 micrometer grain size sediments it takes 1.0302943257170114 hours to settle in the pond.\n",
            "The settling velocity for 40 micrometers is  0.0009577825118017576 m/s\n",
            "For 40 micrometer grain size sediments it takes 0.580043536721565 hours to settle in the pond.\n",
            "The settling velocity for 50 micrometers is  0.0014944167060245257 m/s\n",
            "For 50 micrometer grain size sediments it takes 0.3717541120330851 hours to settle in the pond.\n",
            "The settling velocity for 60 micrometers is  0.002147449171970049 m/s\n",
            "For 60 micrometer grain size sediments it takes 0.258704868458374 hours to settle in the pond.\n",
            "1.0312838597012142 1.337050000001753\n",
            "The orifice needs to be 1.337050000001753 m in diameter to allow 85% of the sediments in the pond to settle before the water leaves the pond.\n"
          ]
        }
      ],
      "source": [
        "#######################################################################\n",
        "# Program Filename: Hw6\n",
        "# Author: Ben Gooding-Tam\n",
        "# Date: 5/16/2024\n",
        "# Description: we are looking to brute force values for our unknown equations\n",
        "# Input: N/A\n",
        "# Output: time_drain , pipe_diameter, money_saved, energy_saved, settle_time\n",
        "#######################################################################\n",
        "\n",
        "import numpy as np #importing numpy\n",
        "\n",
        "def settling_velocity(gravity, sediment_grain_size, drag, sediment_density, water_density ): #functions to solve for settling velocity\n",
        "  settling = np.sqrt(((4/3)*((gravity * sediment_grain_size) / drag)) * ((sediment_density / water_density ) - 1)) #equation solving for settling velocity\n",
        "  return(settling) #returns settling velocity\n",
        "def particle_reynolds_number(water_density, sediment_grain_size, settling, dynamic_viscosity): #function to solve reynolds number\n",
        "  particle_reynolds = (water_density * sediment_grain_size * settling) / dynamic_viscosity #equation solving for reynolds number\n",
        "  return(particle_reynolds) #returns reynolds number\n",
        "def drag_coefficient(particle_reynolds): #function to solve drag coefficient\n",
        "  drag = 1.4 + (36 / particle_reynolds) #equation that solves for drag coefficint\n",
        "  return(drag) #returns drag coefficient\n",
        "def orifice_area_calc(pipe_diameter): #functions that solves orifice area\n",
        "  orifice_area = (np.pi * (pipe_diameter ** 2)) / 4 #equation for orifice area\n",
        "  return(orifice_area) #returns orifice area\n",
        "def time_to_drain (area,orifice_area, orifice_discharge , initial_water_height, final_water_height, gravity): #function for the time to drain the pond\n",
        "  time_drain = (area /(orifice_area * orifice_discharge)) * (np.sqrt(initial_water_height) - np.sqrt(final_water_height)) * (np.sqrt(2 / gravity)) #equation for the time to drain the pond\n",
        "  return(time_drain) #returns the time to drain the pond\n",
        "def time_to_settle (settling, initial_water_height): #function for the time to settle for a particle\n",
        "  settle_time = initial_water_height / settling / 60 / 60 #equation for settling time converted to hours\n",
        "  return(settle_time) #returns converted number\n",
        "\n",
        "sediment_density = 2650 #kg/m3\n",
        "water_density = 1000 #kg/m3\n",
        "dynamic_viscosity = .001 #Ns/m2\n",
        "sediment_grain_size = 0 #tbd\n",
        "gravity = 9.81 #m/s2\n",
        "drag = 0\n",
        "particle_reynolds = 0\n",
        "settling = .000001\n",
        "comparepain = 1\n",
        "settling2 = 1\n",
        "\n",
        "area = 8000 #m^3\n",
        "orifice_discharge = .98\n",
        "initial_water_height = 2\n",
        "final_water_height = 0\n",
        "orifice_area = 0\n",
        "pipe_diameter = .9\n",
        "comparepain2 = 1\n",
        "\n",
        "\n",
        "\n",
        "\n",
        "for x in range (1,7): #loops equal to the number of different particle sizes we have\n",
        "  sediment_grain_size = sediment_grain_size + .00001 #increases particle size by 10micrometers\n",
        "  while (comparepain >= .000000001): #loops until the settling velocity(n) is similar to n-1\n",
        "    settling2 = settling #stores the prior settling velocity as our n-1\n",
        "    settling += .00000001 #adds to our settling velocity to reiterate upon it\n",
        "    particle_reynolds = particle_reynolds_number(water_density, sediment_grain_size, settling, dynamic_viscosity) #calls the first function as it requires settling velocity to solve\n",
        "    drag = drag_coefficient(particle_reynolds) #calls next functions which needed reynolds numeber\n",
        "    settling = settling_velocity(gravity, sediment_grain_size, drag, sediment_density, water_density ) #resolves settling velocty now that we have drag\n",
        "    comparepain = np.abs(settling - settling2) #compare n and n-1\n",
        "  print(\"The settling velocity for\", 10 * x, 'micrometers is ', settling, 'm/s' )\n",
        "  settle_time = time_to_settle(settling, initial_water_height) #calls settling time function\n",
        "  print('For', 10*x,\"micrometer grain size sediments it takes\" ,settle_time,'hours to settle in the pond.')\n",
        "  settling = .0000001 #resets value for new iteration\n",
        "  comparepain = 1 #resets value for new iteration\n",
        "  settling2 = 1 #resets value for new iteration\n",
        "  if x == 3 : #stores the value that 85% of the sedimant has fallen at acourding to the doc\n",
        "    the85percent = settle_time\n",
        "\n",
        "\n",
        "while (comparepain2 >= .001): #loop that solves for the pipe diameter\n",
        "  orifice_area = orifice_area_calc(pipe_diameter) #calls function\n",
        "  time_drain = time_to_drain (area,orifice_area, orifice_discharge , initial_water_height, final_water_height, gravity) #calls function\n",
        "  time_drain = time_drain / 60 / 60 #converts to hours\n",
        "  comparepain2 = np.abs(the85percent - time_drain) #compares the time we need and the time we ahve\n",
        "  pipe_diameter += .00001 #iterates the pipe diameter\n",
        "#print(time_drain, pipe_diameter)\n",
        "print(\"The orifice needs to be\", pipe_diameter , \"m in diameter to allow 85% of the sediments in the pond to settle before the water leaves the pond.\")\n",
        "\n",
        "\n",
        "\n",
        "\n",
        "\n",
        "\n"
      ]
    },
    {
      "cell_type": "code",
      "source": [
        "energy_consumption = 1875000000 #W\n",
        "water_treated = 4000000000 #gal\n",
        "storm_waste = .10 #%\n",
        "cost = .116 #$kwh\n",
        "\n",
        "energy_saved = (energy_consumption * storm_waste) / 10 ** 12 #solves the energy saved\n",
        "money_saved = (energy_saved * (10 ** 9)) * .116 #solved money saved\n",
        "print('The energy savings of removing 10% of the water (or 400 million gallons) being processed unnecessarily\\nby the Corvallis wastewater treatment plant is ' , energy_saved ,'twh and will save the city $' ,money_saved , 'per year')\n",
        "\n",
        "\n"
      ],
      "metadata": {
        "colab": {
          "base_uri": "https://localhost:8080/"
        },
        "id": "l-Lbfy67l9vz",
        "outputId": "80323b9d-ac5e-43be-f299-75aab79b7233"
      },
      "execution_count": 11,
      "outputs": [
        {
          "output_type": "stream",
          "name": "stdout",
          "text": [
            "The energy savings of removing 10% of the water (or 400 million gallons) being processed unnecessarily\n",
            "by the Corvallis wastewater treatment plant is  0.0001875 twh and will save the city $ 21750.0 per year\n"
          ]
        }
      ]
    }
  ]
}